{
 "cells": [
  {
   "cell_type": "markdown",
   "id": "51f602db",
   "metadata": {},
   "source": [
    "# 231108 Peer Graded 1"
   ]
  },
  {
   "cell_type": "code",
   "execution_count": null,
   "id": "0bbacc14",
   "metadata": {},
   "outputs": [],
   "source": [
    "###  Create a markdown cell for an introduction"
   ]
  },
  {
   "cell_type": "code",
   "execution_count": null,
   "id": "e6e6d377",
   "metadata": {},
   "outputs": [],
   "source": [
    "Create a markdown cell to list data science languages"
   ]
  },
  {
   "cell_type": "code",
   "execution_count": null,
   "id": "17f614aa",
   "metadata": {},
   "outputs": [],
   "source": [
    "Create a markdown cell to list data science libraries"
   ]
  },
  {
   "cell_type": "code",
   "execution_count": null,
   "id": "278c5148",
   "metadata": {},
   "outputs": [],
   "source": [
    "Create a markdown cell with a table of Data Science tools"
   ]
  },
  {
   "cell_type": "code",
   "execution_count": null,
   "id": "ad82272f",
   "metadata": {},
   "outputs": [],
   "source": [
    "Create a markdown cell introducing arithmetic expression examples"
   ]
  },
  {
   "cell_type": "code",
   "execution_count": 2,
   "id": "0140d6c6",
   "metadata": {},
   "outputs": [
    {
     "data": {
      "text/plain": [
       "4"
      ]
     },
     "execution_count": 2,
     "metadata": {},
     "output_type": "execute_result"
    }
   ],
   "source": [
    "2 + 2\n"
   ]
  },
  {
   "cell_type": "markdown",
   "id": "378b7ef4",
   "metadata": {},
   "source": [
    "Create a code cell to multiply and add numbers"
   ]
  },
  {
   "cell_type": "code",
   "execution_count": 3,
   "id": "827d5162",
   "metadata": {},
   "outputs": [
    {
     "data": {
      "text/plain": [
       "10"
      ]
     },
     "execution_count": 3,
     "metadata": {},
     "output_type": "execute_result"
    }
   ],
   "source": [
    "2 * 5"
   ]
  },
  {
   "cell_type": "code",
   "execution_count": null,
   "id": "237f9a53",
   "metadata": {},
   "outputs": [],
   "source": [
    "Create a code cell to convert minutes to hours."
   ]
  },
  {
   "cell_type": "code",
   "execution_count": 4,
   "id": "af8e2059",
   "metadata": {},
   "outputs": [
    {
     "data": {
      "text/plain": [
       "6.5"
      ]
     },
     "execution_count": 4,
     "metadata": {},
     "output_type": "execute_result"
    }
   ],
   "source": [
    "390 / 60"
   ]
  },
  {
   "cell_type": "markdown",
   "id": "6c37bd78",
   "metadata": {},
   "source": [
    "Insert a markdown cell to list Objectives.\n",
    "- obj 1\n",
    "- obj 2\n",
    "- obj 3"
   ]
  },
  {
   "cell_type": "markdown",
   "id": "6f1daa0c",
   "metadata": {},
   "source": [
    " Create a markdown cell to indicate the Author’s name\n",
    "    Kuba Milcarz"
   ]
  }
 ],
 "metadata": {
  "kernelspec": {
   "display_name": "Python 3 (ipykernel)",
   "language": "python",
   "name": "python3"
  },
  "language_info": {
   "codemirror_mode": {
    "name": "ipython",
    "version": 3
   },
   "file_extension": ".py",
   "mimetype": "text/x-python",
   "name": "python",
   "nbconvert_exporter": "python",
   "pygments_lexer": "ipython3",
   "version": "3.11.5"
  }
 },
 "nbformat": 4,
 "nbformat_minor": 5
}
